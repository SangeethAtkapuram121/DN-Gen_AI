{
 "cells": [
  {
   "cell_type": "markdown",
   "metadata": {},
   "source": [
    "# Notebook to generate FAISS index files"
   ]
  },
  {
   "cell_type": "markdown",
   "metadata": {},
   "source": [
    "#### Import libraries"
   ]
  },
  {
   "cell_type": "code",
   "execution_count": null,
   "metadata": {},
   "outputs": [],
   "source": [
    "import time\n",
    "from pathlib import Path\n",
    "from typing import List, Tuple\n",
    "\n",
    "from langchain import PromptTemplate, LLMChain\n",
    "\n",
    "from langchain_community.embeddings import HuggingFaceEmbeddings\n",
    "\n",
    "from langchain.text_splitter import RecursiveCharacterTextSplitter,MarkdownHeaderTextSplitter,Language\n",
    "from langchain_community.vectorstores.faiss import FAISS\n",
    "from langchain_community.document_loaders.parsers.pdf import PDFPlumberParser \n",
    "\n",
    "from langchain_community.document_loaders import TextLoader, UnstructuredPDFLoader,PyPDFLoader,DirectoryLoader,UnstructuredHTMLLoader,BSHTMLLoader,DataFrameLoader,UnstructuredExcelLoader\n",
    "from langchain_community.document_loaders.pdf import PDFPlumberLoader\n",
    "from langchain_community.document_loaders.csv_loader import UnstructuredCSVLoader,CSVLoader\n",
    "from langchain_community.document_loaders import MHTMLLoader\n",
    "from langchain_community.document_loaders.web_base import WebBaseLoader\n",
    "from langchain_community.document_loaders import AzureAIDocumentIntelligenceLoader\n",
    "\n",
    "from langchain_community.document_loaders import ConfluenceLoader,UnstructuredXMLLoader\n",
    "\n",
    "from langchain.storage import InMemoryStore\n",
    "from langchain.retrievers import ParentDocumentRetriever\n",
    "\n",
    "import pickle\n",
    "import os"
   ]
  },
  {
   "cell_type": "code",
   "execution_count": null,
   "metadata": {},
   "outputs": [],
   "source": [
    "# set variables\n",
    "data_dir = \"./data\"\n",
    "index_dir = \"./data_index\""
   ]
  },
  {
   "cell_type": "code",
   "execution_count": null,
   "metadata": {},
   "outputs": [],
   "source": [
    "def save_object(obj, filename):\n",
    "    with open(filename, 'wb') as outp:  # Overwrites any existing file.\n",
    "        pickle.dump(obj, outp, pickle.HIGHEST_PROTOCOL)"
   ]
  },
  {
   "cell_type": "code",
   "execution_count": null,
   "metadata": {},
   "outputs": [],
   "source": [
    "def initialize_embeddings() -> HuggingFaceEmbeddings:\n",
    "    model_name = \"./models/all-mpnet-base-v2/\"   # required: keep model at this path\n",
    "    model_kwargs = {'device': 'cpu'}\n",
    "    encode_kwargs = {'normalize_embeddings': False}\n",
    "    return HuggingFaceEmbeddings(\n",
    "        model_name=model_name,\n",
    "        model_kwargs=model_kwargs,\n",
    "        encode_kwargs=encode_kwargs\n",
    "    )\n",
    "\n",
    "embeddings = initialize_embeddings()"
   ]
  },
  {
   "cell_type": "code",
   "execution_count": null,
   "metadata": {},
   "outputs": [],
   "source": [
    "## load the document as per the data source and type\n",
    "def load_documents() -> List:\n",
    "    dirs = os.listdir( data_dir )\n",
    "    docs=[]\n",
    "    headers_to_split_on = [(\"#\", \"Header 1\"),(\"##\", \"Header 2\"),(\"###\", \"Header 3\")]\n",
    "    md_splitter = MarkdownHeaderTextSplitter(headers_to_split_on=headers_to_split_on, strip_headers=False)\n",
    "    for file in dirs:\n",
    "        if file.endswith('.md'):\n",
    "            with open(data_dir+'/'+file, 'r',encoding=\"utf-8\") as file:\n",
    "                data = file.read()\n",
    "                html_header_splits = md_splitter.split_text(data)\n",
    "                for doc in html_header_splits:\n",
    "                    doc.metadata['source']=Path(file.name).stem +'.md'\n",
    "                    docs.append(doc)\n",
    "    return docs"
   ]
  },
  {
   "cell_type": "code",
   "execution_count": null,
   "metadata": {},
   "outputs": [],
   "source": [
    "## split the data into smaller chunks\n",
    "def split_chunks(sources: List, child_splitter) -> List:\n",
    "    chunks = []\n",
    "    for chunk in child_splitter.split_documents(sources):\n",
    "        # print(\"\\n\" +str(chunk) +\"\\n\")\n",
    "        chunks.append(chunk)\n",
    "    return chunks\n",
    "\n",
    "## generate index\n",
    "def generate_index(chunks: List, embeddings: HuggingFaceEmbeddings) -> FAISS:\n",
    "    texts = [doc.page_content for doc in chunks]\n",
    "    metadatas = [doc.metadata for doc in chunks]\n",
    "    return FAISS.from_texts(texts, embeddings, metadatas=metadatas)"
   ]
  },
  {
   "cell_type": "code",
   "execution_count": null,
   "metadata": {},
   "outputs": [],
   "source": [
    "print(\"INFO: Generating Index...\\n\")\n",
    "start = time.time()\n",
    "\n",
    "sources = load_documents()\n",
    "\n",
    "child_splitter = RecursiveCharacterTextSplitter(chunk_size=256,chunk_overlap=0, separators=[\" \", \",\", \"\\n\"]) #500\n",
    "parent_splitter = RecursiveCharacterTextSplitter(chunk_size=2048, chunk_overlap=256)\n",
    "\n",
    "chunks = split_chunks(sources, child_splitter)\n",
    "\n",
    "vectorstore = generate_index(chunks, embeddings)\n",
    "store = InMemoryStore()\n",
    "\n",
    "retriever = ParentDocumentRetriever(\n",
    "    vectorstore=vectorstore,\n",
    "    docstore=store,\n",
    "    child_splitter=child_splitter,\n",
    "    parent_splitter=parent_splitter\n",
    ")\n",
    "retriever.add_documents(sources)\n",
    "\n",
    "vectorstore.save_local(index_dir)\n",
    "save_object(store, './'+index_dir+'/retriever.pkl')\n",
    "\n",
    "end = time.time()\n",
    "emb_time = round((end - start), 0)\n",
    "print(\"INFO: Index generated.\\n\")\n",
    "print(\"\\nEmbedding time : \" +str(emb_time) +\" sec\")"
   ]
  },
  {
   "cell_type": "code",
   "execution_count": null,
   "metadata": {},
   "outputs": [],
   "source": [
    "query = '<query-here>' \n",
    "print(\"QUERY - \" + query)\n",
    "\n",
    "new_db = FAISS.load_local(index_dir, embeddings, allow_dangerous_deserialization=True)\n",
    "\n",
    "docs = new_db.similarity_search_with_score(query)\n",
    "docs"
   ]
  },
  {
   "cell_type": "code",
   "execution_count": null,
   "metadata": {},
   "outputs": [],
   "source": []
  }
 ],
 "metadata": {
  "kernelspec": {
   "display_name": "Python 3",
   "language": "python",
   "name": "python3"
  },
  "language_info": {
   "codemirror_mode": {
    "name": "ipython",
    "version": 3
   },
   "file_extension": ".py",
   "mimetype": "text/x-python",
   "name": "python",
   "nbconvert_exporter": "python",
   "pygments_lexer": "ipython3",
   "version": "3.9.5"
  }
 },
 "nbformat": 4,
 "nbformat_minor": 2
}
